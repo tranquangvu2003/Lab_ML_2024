{
  "nbformat": 4,
  "nbformat_minor": 0,
  "metadata": {
    "colab": {
      "provenance": [],
      "authorship_tag": "ABX9TyNUdp9PoG9u9E6WJnIBepw6",
      "include_colab_link": true
    },
    "kernelspec": {
      "name": "python3",
      "display_name": "Python 3"
    },
    "language_info": {
      "name": "python"
    }
  },
  "cells": [
    {
      "cell_type": "markdown",
      "metadata": {
        "id": "view-in-github",
        "colab_type": "text"
      },
      "source": [
        "<a href=\"https://colab.research.google.com/github/tranquangvu2003/Lab_ML_2024/blob/main/Lab1_21139615_Tran_Quang_Vu.ipynb\" target=\"_parent\"><img src=\"https://colab.research.google.com/assets/colab-badge.svg\" alt=\"Open In Colab\"/></a>"
      ]
    },
    {
      "cell_type": "markdown",
      "source": [
        "Task 1.1"
      ],
      "metadata": {
        "id": "e0Sb00_gk5LZ"
      }
    },
    {
      "cell_type": "code",
      "execution_count": 36,
      "metadata": {
        "colab": {
          "base_uri": "https://localhost:8080/"
        },
        "id": "U7FO3gH1hZd1",
        "outputId": "19ad6828-3050-4b54-f9e8-d2fe8d91ad38"
      },
      "outputs": [
        {
          "output_type": "stream",
          "name": "stdout",
          "text": [
            "Nhập chiều dài danh sách: 6\n",
            "Nhập số: -4\n",
            "Nhập số: 2\n",
            "Nhập số: -4\n",
            "Nhập số: 9\n",
            "Nhập số: 8\n",
            "Nhập số: 4\n",
            "Danh sách bạn đã nhập: [-4, 2, -4, 9, 8, 4]\n",
            "Max L: 9\n",
            "Min L: -4\n",
            "Tổng phần tử trong L là: 15\n",
            "Danh sách sau khi sắp xếp: [-4, -4, 2, 4, 8, 9]\n",
            "Số dương: 4\n",
            "Số âm: 2\n",
            "inter num s: 3\n",
            "compute S: S=  6\n"
          ]
        }
      ],
      "source": [
        "def task1():\n",
        "  n = int(input(\"Nhập chiều dài danh sách: \"))\n",
        "\n",
        "  L = []\n",
        "  i = 0\n",
        "  while i < n:\n",
        "      a = int(input(\"Nhập số: \"))\n",
        "      L.append(a)\n",
        "      i += 1\n",
        "  print(\"Danh sách bạn đã nhập:\", L)\n",
        "\n",
        "  print(\"Max L:\", max(L))\n",
        "  print(\"Min L:\",min(L))\n",
        "\n",
        "  tong = 0\n",
        "  for num in L:\n",
        "      tong += num\n",
        "  print(\"Tổng phần tử trong L là:\", tong)\n",
        "\n",
        "  L.sort()\n",
        "  print(\"Danh sách sau khi sắp xếp:\", L)\n",
        "\n",
        "  def sodva(L):\n",
        "      duong= 0\n",
        "      am = 0\n",
        "      for so in L:\n",
        "          if so > 0:\n",
        "              duong += 1\n",
        "          elif so < 0:\n",
        "              am += 1\n",
        "      return duong, am\n",
        "\n",
        "\n",
        "  soduong, soam = sodva(L)\n",
        "  print(\"Số dương:\", soduong)\n",
        "  print(\"Số âm:\", soam)\n",
        "\n",
        "  def S(n):\n",
        "    if n == 0:\n",
        "      return 1\n",
        "    else:\n",
        "      return n*S(n-1)\n",
        "task1()\n",
        "s= int (input(\"inter num s: \"))\n",
        "print(\"compute S: S= \",S(s))\n"
      ]
    },
    {
      "cell_type": "markdown",
      "source": [
        "Task 1.3"
      ],
      "metadata": {
        "id": "zW15q5lRocni"
      }
    },
    {
      "cell_type": "code",
      "source": [
        "class Post:\n",
        "  def __init__(self, content, subject, likes):\n",
        "    self.__content = content\n",
        "    self.__subject = subject\n",
        "    self.__likes = likes\n",
        "\n",
        "class Account:\n",
        "  def __init__(self, name, email, country, friends, posts):\n",
        "    self.__name = name\n",
        "    self.__email = email\n",
        "    self.__country = country\n",
        "    self.__friends = friends\n",
        "    self.__posts = posts\n",
        "\n",
        "  def getName(self):\n",
        "        return self.__name\n",
        "  def getCountry(self):\n",
        "        return self.__country\n",
        "  def getPosts(self):\n",
        "        return self.__posts\n",
        "  def __str__(self):\n",
        "        return f\"Account: {self.__name}, Email: {self.__email}, Country: {self.__country}\"\n",
        "  def addPost(self, post):\n",
        "    self.__posts.append(post)\n",
        "\n",
        "  def getMaxLikePostByFriend(self):\n",
        "    max_Likes =0\n",
        "    max_Posts = None\n",
        "    for friend in self.__friends:\n",
        "      for post in friend.getPost():\n",
        "        if post.getLikes() >max_Likes:\n",
        "          max_Likes = post.getLikes()\n",
        "          max_Posts = post\n",
        "\n",
        "class AccountManager:\n",
        "  def __init__(self, account):\n",
        "    self.__account = account\n",
        "  def groupAccountsByPostLike(self):\n",
        "    result = {}\n",
        "    for account in self.__account:\n",
        "      if len(account.getPosts()) < 10:\n",
        "        result[account] = False\n",
        "      else:\n",
        "        result[account] = True\n",
        "    return result\n",
        "\n",
        "  def filterAccounts(self, country):\n",
        "    filtered_accounts = [account for account in self.__account if account.getCountry() == country]\n",
        "    sorted_accounts = sorted(filtered_accounts, key=lambda account: (-len(account.getPosts()), account.getName()))\n",
        "    return sorted_accounts\n",
        "\n",
        "\n",
        "account1 = Account(\"Vu\", \"Vu123@gmail.com\", \"VietNam\", [], [])\n",
        "account2 = Account(\"Duy\", \"Duy123@gmail.com\", \"UK\", [], [])\n",
        "\n",
        "post1 = Post(\"Bai1!\", \"A\", 100)\n",
        "post2 = Post(\"Bai2!\", \"B\", 150)\n",
        "\n",
        "\n",
        "account1.addPost(post1)\n",
        "account2.addPost(post2)\n",
        "\n",
        "account_manager = AccountManager([account1, account2])\n",
        "\n",
        "grouped_accounts = account_manager.groupAccountsByPostLike()\n",
        "\n",
        "max_like_post = account1.getMaxLikePostByFriend()\n",
        "print(\"Bai viet nhieu like:\", max_like_post.getContent() if max_like_post else \"Khong co\")\n",
        "\n",
        "print(\"Tai khoan nhom:\")\n",
        "for account, has_many_posts in grouped_accounts.items():\n",
        "    print(f\"Tai khoan: {account}, so bai viet: {has_many_posts}\")\n",
        "\n",
        "filtered_accounts = account_manager.filterAccounts(\"UK\")\n",
        "print(\"\\nTai khoan bi loc:\")\n",
        "for account in filtered_accounts:\n",
        "    print(account)\n"
      ],
      "metadata": {
        "colab": {
          "base_uri": "https://localhost:8080/"
        },
        "id": "zsFGReC0ofaG",
        "outputId": "bd42798f-4841-4473-9e47-54111fb5be1b"
      },
      "execution_count": 38,
      "outputs": [
        {
          "output_type": "stream",
          "name": "stdout",
          "text": [
            "Bai viet nhieu like: Khong co\n",
            "Tai khoan nhom:\n",
            "Tai khoan: Account: Vu, Email: Vu123@gmail.com, Country: VietNam, so bai viet: False\n",
            "Tai khoan: Account: Duy, Email: Duy123@gmail.com, Country: UK, so bai viet: False\n",
            "\n",
            "Tai khoan bi loc:\n",
            "Account: Duy, Email: Duy123@gmail.com, Country: UK\n"
          ]
        }
      ]
    },
    {
      "cell_type": "markdown",
      "source": [
        "Task2"
      ],
      "metadata": {
        "id": "QKxxrjth5chL"
      }
    },
    {
      "cell_type": "code",
      "source": [
        "# Task 2.1\n",
        "import numpy as np\n",
        "arr = np.arange(10, 26)\n",
        "reversed_arr = np.flip(arr)\n",
        "print(\"Mang ban dau:\", arr)\n",
        "print(\"Mang dao nguoc:\", reversed_arr)"
      ],
      "metadata": {
        "colab": {
          "base_uri": "https://localhost:8080/"
        },
        "id": "L0GbgBT52O5M",
        "outputId": "e3fcc7c5-bd49-4679-d45b-1076de707179"
      },
      "execution_count": 39,
      "outputs": [
        {
          "output_type": "stream",
          "name": "stdout",
          "text": [
            "Mang ban dau: [10 11 12 13 14 15 16 17 18 19 20 21 22 23 24 25]\n",
            "Mang dao nguoc: [25 24 23 22 21 20 19 18 17 16 15 14 13 12 11 10]\n"
          ]
        }
      ]
    },
    {
      "cell_type": "code",
      "source": [
        "# Task 2.2\n",
        "input_array_2_2 = np.array([1, 2, 3, 4])\n",
        "repeated_2_times = np.tile(input_array_2_2, 2)\n",
        "repeated_3_times = np.tile(input_array_2_2, 3)\n",
        "print(\"Mang ban dau:\", input_array_2_2)\n",
        "print(\"Lap lai 2 lan:\", repeated_2_times)\n",
        "print(\"Lap lai 3 lan:\", repeated_3_times)\n"
      ],
      "metadata": {
        "colab": {
          "base_uri": "https://localhost:8080/"
        },
        "id": "3h0I_24F5tk0",
        "outputId": "38f1af93-ac93-4e59-993c-2aeacf919ed3"
      },
      "execution_count": 40,
      "outputs": [
        {
          "output_type": "stream",
          "name": "stdout",
          "text": [
            "Mang ban dau: [1 2 3 4]\n",
            "Lap lai 2 lan: [1 2 3 4 1 2 3 4]\n",
            "Lap lai 3 lan: [1 2 3 4 1 2 3 4 1 2 3 4]\n"
          ]
        }
      ]
    },
    {
      "cell_type": "code",
      "source": [
        "# Task2.3\n",
        "input_array_2_3 = np.array([[0.42, 0.48, 0.32],\n",
        "                            [0.74, 0.58, 0.38],\n",
        "                            [0.51, 0.34, 0.15]])\n",
        "specified_value = 0.5\n",
        "output_array_2_3 = np.where(input_array_2_3 < specified_value, specified_value, input_array_2_3)\n",
        "print(\"Mang ban dau:\")\n",
        "print(input_array_2_3)\n",
        "print(\"Thay cac phan tu lon:\")\n",
        "print(output_array_2_3)"
      ],
      "metadata": {
        "colab": {
          "base_uri": "https://localhost:8080/"
        },
        "id": "kLQK8sWb6N3R",
        "outputId": "b8b7c255-8d27-4307-dc52-1ffebab8aed8"
      },
      "execution_count": 41,
      "outputs": [
        {
          "output_type": "stream",
          "name": "stdout",
          "text": [
            "Mang ban dau:\n",
            "[[0.42 0.48 0.32]\n",
            " [0.74 0.58 0.38]\n",
            " [0.51 0.34 0.15]]\n",
            "Thay cac phan tu lon:\n",
            "[[0.5  0.5  0.5 ]\n",
            " [0.74 0.58 0.5 ]\n",
            " [0.51 0.5  0.5 ]]\n"
          ]
        }
      ]
    }
  ]
}